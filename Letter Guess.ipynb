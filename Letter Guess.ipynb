{
 "cells": [
  {
   "cell_type": "code",
   "execution_count": null,
   "metadata": {},
   "outputs": [],
   "source": [
    "import random\n",
    "names = ['johnathan', 'joseph', 'jotaro', 'josuke', 'giorno', 'jolyne', 'johnny', 'josefumi', \"dio\", 'ceasar']"
   ]
  },
  {
   "cell_type": "code",
   "execution_count": null,
   "metadata": {},
   "outputs": [],
   "source": [
    "print(random.choice(names))"
   ]
  },
  {
   "cell_type": "code",
   "execution_count": null,
   "metadata": {},
   "outputs": [],
   "source": [
    "import random, sys\n",
    "names = ['johnathan', 'joseph', 'jotaro', 'josuke', 'giorno', 'jolyne', 'johnny', 'josefumi', \"dio\", 'ceasar']\n",
    "alpha = ['a', 'b', 'c', 'd', 'e', 'f', 'g', 'h', 'i', 'j', 'k', 'l', 'm', 'n', 'o', 'p', 'q', 'r', 's', 't', 'u', 'v', 'w', 'x', 'y', 'z']\n",
    "tried = []\n",
    "check = []\n",
    "show = []\n",
    "def instructions():\n",
    "    print(\"\"\"Try to guess the secret JoJo character!\n",
    "Enter ONE letter to make a guess!\n",
    "7 tries to get it right!\n",
    "Only lower-case guesses please!\n",
    "Enter 'help' for more instructions\n",
    "enter 'end' to quit\n",
    "\"\"\")\n",
    "def get_check():\n",
    "    value = random.choice(names)\n",
    "    for c in list(value):\n",
    "        check.append(c)\n",
    "\n",
    "def get_show(a_list):\n",
    "    for v in a_list:\n",
    "        show.append('_')\n",
    "\n",
    "def show_word(list):\n",
    "    print(list)\n",
    "    \n",
    "def show_tried(a_list):\n",
    "    if not a_list:\n",
    "        print('No Guesses!')\n",
    "    else:\n",
    "        for i in a_list:\n",
    "            print(i)\n",
    "        \n",
    "def main():\n",
    "    ind = 0\n",
    "    instructions()\n",
    "    get_check()\n",
    "    get_show(check)\n",
    "    over = False\n",
    "    \n",
    "    while not over:\n",
    "        show_word(show)\n",
    "        print(f'Number of wrong guesses: {ind}')\n",
    "        print('Letters Guessed:')\n",
    "        show_tried(tried)\n",
    "        letter = input('Guess a Letter !').lower()\n",
    "    \n",
    "        if ind >= 6:\n",
    "            print(f'Too bad! you didnt guess the word! Better luck next time! Word was', \"\".join([let for let in check]))\n",
    "            over = True\n",
    "                \n",
    "        if letter == 'end':\n",
    "            over = True\n",
    "        \n",
    "        elif letter == 'help':\n",
    "            instructions()\n",
    "            \n",
    "        elif show == check:\n",
    "            print('You won! Thanks for Playing! The word was', \"\".join([let for let in check]))\n",
    "            over = True\n",
    "        elif letter in alpha:\n",
    "            if letter not in tried:\n",
    "                if letter in check:\n",
    "                    for index, let in enumerate(check):\n",
    "                        if let == letter:\n",
    "                            show[index] = letter\n",
    "                            tried.append(letter)\n",
    "                            continue\n",
    "                else:\n",
    "                    print('Nice try! But nope :( Try Again!')\n",
    "                    ind +=1\n",
    "                    tried.append(letter)\n",
    "                    continue\n",
    "            else:\n",
    "                print('Already tried that! Give it another go.')\n",
    "                continue\n",
    "            \n",
    "            \n",
    "        else:\n",
    "            print(\"Thats not how this works... Go again!\")\n",
    "            continue"
   ]
  },
  {
   "cell_type": "code",
   "execution_count": null,
   "metadata": {},
   "outputs": [],
   "source": [
    "main()"
   ]
  },
  {
   "cell_type": "markdown",
   "metadata": {},
   "source": []
  },
  {
   "cell_type": "code",
   "execution_count": null,
   "metadata": {},
   "outputs": [],
   "source": []
  },
  {
   "cell_type": "code",
   "execution_count": null,
   "metadata": {},
   "outputs": [],
   "source": [
    "def get_check():\n",
    "    value = random.choice(names)\n",
    "    for c in list(value):\n",
    "        check.append(c)\n",
    "    for index, value in enumerate(check):\n",
    "        print(check[0])"
   ]
  },
  {
   "cell_type": "code",
   "execution_count": null,
   "metadata": {},
   "outputs": [],
   "source": [
    "get_check()"
   ]
  },
  {
   "cell_type": "code",
   "execution_count": null,
   "metadata": {},
   "outputs": [],
   "source": []
  }
 ],
 "metadata": {
  "kernelspec": {
   "display_name": "Python 3",
   "language": "python",
   "name": "python3"
  },
  "language_info": {
   "codemirror_mode": {
    "name": "ipython",
    "version": 3
   },
   "file_extension": ".py",
   "mimetype": "text/x-python",
   "name": "python",
   "nbconvert_exporter": "python",
   "pygments_lexer": "ipython3",
   "version": "3.7.6"
  }
 },
 "nbformat": 4,
 "nbformat_minor": 4
}
